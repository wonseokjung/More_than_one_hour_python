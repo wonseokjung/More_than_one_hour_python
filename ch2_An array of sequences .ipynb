{
 "cells": [
  {
   "cell_type": "markdown",
   "metadata": {},
   "source": [
    "# An array of sequences "
   ]
  },
  {
   "cell_type": "markdown",
   "metadata": {},
   "source": [
    "### List comprehension and genrator expressions\n",
    "\n"
   ]
  },
  {
   "cell_type": "markdown",
   "metadata": {},
   "source": [
    "Sequence를 빠르게 만드는방법은 List comprehension을 사용하는 것이다. \n"
   ]
  },
  {
   "cell_type": "markdown",
   "metadata": {},
   "source": [
    "## 1.List comprehensions and readability\n"
   ]
  },
  {
   "cell_type": "markdown",
   "metadata": {},
   "source": [
    "Build a list of Unicode codepoints from string\n",
    "\n",
    "String 으로부터 List of Unicde 빌드하기 "
   ]
  },
  {
   "cell_type": "markdown",
   "metadata": {},
   "source": [
    "## WS Version"
   ]
  },
  {
   "cell_type": "code",
   "execution_count": 14,
   "metadata": {},
   "outputs": [
    {
     "name": "stdout",
     "output_type": "stream",
     "text": [
      "[35]\n",
      "[35, 35]\n",
      "[35, 35, 64]\n",
      "[35, 35, 64, 35]\n",
      "[35, 35, 64, 35, 33]\n",
      "[35, 35, 64, 35, 33, 64]\n"
     ]
    }
   ],
   "source": [
    "\n",
    "symbols = '##@#!@'\n",
    "\n",
    "codes = []\n",
    "\n",
    "for symbol in symbols:\n",
    "    b= ord(symbol)\n",
    "    a= codes.append(b)\n",
    "   \n",
    "    print(codes)"
   ]
  },
  {
   "cell_type": "code",
   "execution_count": 15,
   "metadata": {},
   "outputs": [
    {
     "data": {
      "text/plain": [
       "[35, 35, 64, 35, 33, 64]"
      ]
     },
     "execution_count": 15,
     "metadata": {},
     "output_type": "execute_result"
    }
   ],
   "source": [
    "codes"
   ]
  },
  {
   "cell_type": "markdown",
   "metadata": {},
   "source": [
    "## Book Version"
   ]
  },
  {
   "cell_type": "code",
   "execution_count": 17,
   "metadata": {},
   "outputs": [
    {
     "data": {
      "text/plain": [
       "[36, 64, 35, 37, 37]"
      ]
     },
     "execution_count": 17,
     "metadata": {},
     "output_type": "execute_result"
    }
   ],
   "source": [
    "symbols = '$@#%%'\n",
    "\n",
    "codes = [ord(symbol) for symbol in symbols]\n",
    "\n",
    "codes"
   ]
  },
  {
   "cell_type": "markdown",
   "metadata": {},
   "source": [
    "## Cartesian Products"
   ]
  },
  {
   "cell_type": "markdown",
   "metadata": {},
   "source": [
    "카르테시안 Products"
   ]
  },
  {
   "cell_type": "markdown",
   "metadata": {},
   "source": [
    "\n",
    "![220px-cartesian_product_qtl1 svg](https://user-images.githubusercontent.com/11300712/42076530-67b83fac-7b2a-11e8-904b-abd7b8c71731.png)\n",
    "\n"
   ]
  },
  {
   "cell_type": "code",
   "execution_count": 25,
   "metadata": {},
   "outputs": [
    {
     "name": "stdout",
     "output_type": "stream",
     "text": [
      "('black', 's')\n",
      "('black', 'm')\n",
      "('black', 'l')\n",
      "('white', 's')\n",
      "('white', 'm')\n",
      "('white', 'l')\n"
     ]
    }
   ],
   "source": [
    "colors = ['black', 'white']\n",
    "\n",
    "sizes = ['s','m','l']\n",
    "\n",
    "\n",
    "for color in colors : \n",
    "    for size in sizes:\n",
    "            print((color,size))"
   ]
  },
  {
   "cell_type": "code",
   "execution_count": 41,
   "metadata": {
    "collapsed": true
   },
   "outputs": [],
   "source": [
    "cartesian= [(color,size) for color in colors for size in sizes]"
   ]
  },
  {
   "cell_type": "code",
   "execution_count": 42,
   "metadata": {},
   "outputs": [
    {
     "data": {
      "text/plain": [
       "[('black', 's'),\n",
       " ('black', 'm'),\n",
       " ('black', 'l'),\n",
       " ('white', 's'),\n",
       " ('white', 'm'),\n",
       " ('white', 'l')]"
      ]
     },
     "execution_count": 42,
     "metadata": {},
     "output_type": "execute_result"
    }
   ],
   "source": [
    "cartesian"
   ]
  },
  {
   "cell_type": "markdown",
   "metadata": {},
   "source": [
    "\n",
    "## 2.Tuple은 단지 변하지 않는 list가 아니다."
   ]
  },
  {
   "cell_type": "markdown",
   "metadata": {},
   "source": [
    "### 2.1 Tupes as records"
   ]
  },
  {
   "cell_type": "markdown",
   "metadata": {},
   "source": [
    "Tuple은 records를 hold한다. \n"
   ]
  },
  {
   "cell_type": "markdown",
   "metadata": {},
   "source": [
    "#### 문제 : tuple을 records로 사용해보세요.  \n",
    "\n",
    "주의 : tuple 을 sorting하게 되면 information이 손실된다. \n",
    "왜냐하면 각 data는 tuple에 의해서 주어졌기 때문이다.\n",
    "\n",
    "\n",
    "##### 1. LAX의 Latitude and Longtitude \n",
    "\n",
    "lax_coordinates = (33.9425, - 118.408056)\n",
    "\n",
    "#####  2. 도쿄의 데이터\n",
    "city = Tokyo\n",
    "\n",
    "year = 2003\n",
    "\n",
    "pop = 32450\n",
    "\n",
    "chg = 0.66\n",
    "\n",
    "area = 8014\n",
    "\n",
    "##### 3. \n",
    "\n",
    "traveler_ids = [('usa', '31195855'), ('bra', 'ce342567'), ('esp','xda205856')]\n",
    "\n",
    "##### * 다음과 같이 바꿔보세요. \n",
    "\n",
    "bra/ce342567\n",
    "\n",
    "esp/xda205856\n",
    "\n",
    "usa/31195855\n"
   ]
  },
  {
   "cell_type": "code",
   "execution_count": 48,
   "metadata": {
    "collapsed": true
   },
   "outputs": [],
   "source": [
    "lax_coordinates = (33.9425, -118.408056)\n",
    "\n",
    "city, year, pop, chg, area = ('Tokyo', 2003, 32450, 0.66, 8014)\n",
    "\n",
    "traveler_ids = [('usa', '31195855'), ('bra', 'ce342567'), ('esp','xda205856')]\n"
   ]
  },
  {
   "cell_type": "code",
   "execution_count": 62,
   "metadata": {
    "scrolled": true
   },
   "outputs": [
    {
     "name": "stdout",
     "output_type": "stream",
     "text": [
      "bra/ce342567\n",
      "esp/xda205856\n",
      "usa/31195855\n"
     ]
    }
   ],
   "source": [
    "for passport in sorted(traveler_ids):\n",
    "    print('%s/%s'% passport)"
   ]
  },
  {
   "cell_type": "markdown",
   "metadata": {},
   "source": [
    "### 2.2 Tuple unpacking 두번째 방법\n",
    "\n",
    "\n",
    "\n",
    "lax_coordinates = (33.9425, - 118.408056)\n",
    "\n",
    "latitude 와 coordinates를 분리해보세요. "
   ]
  },
  {
   "cell_type": "code",
   "execution_count": 78,
   "metadata": {
    "collapsed": true
   },
   "outputs": [],
   "source": [
    "lax_coordinates = (33.9425, - 118.408056)"
   ]
  },
  {
   "cell_type": "code",
   "execution_count": 79,
   "metadata": {
    "collapsed": true
   },
   "outputs": [],
   "source": [
    "latitude, longitude=lax_coordinates \n"
   ]
  },
  {
   "cell_type": "code",
   "execution_count": 80,
   "metadata": {},
   "outputs": [
    {
     "data": {
      "text/plain": [
       "33.9425"
      ]
     },
     "execution_count": 80,
     "metadata": {},
     "output_type": "execute_result"
    }
   ],
   "source": [
    "latitude"
   ]
  },
  {
   "cell_type": "code",
   "execution_count": 81,
   "metadata": {},
   "outputs": [
    {
     "data": {
      "text/plain": [
       "-118.408056"
      ]
     },
     "execution_count": 81,
     "metadata": {},
     "output_type": "execute_result"
    }
   ],
   "source": [
    "longitude"
   ]
  },
  {
   "cell_type": "code",
   "execution_count": 82,
   "metadata": {
    "collapsed": true
   },
   "outputs": [],
   "source": [
    "a,b =latitude, longitude"
   ]
  },
  {
   "cell_type": "code",
   "execution_count": 83,
   "metadata": {
    "scrolled": true
   },
   "outputs": [
    {
     "data": {
      "text/plain": [
       "33.9425"
      ]
     },
     "execution_count": 83,
     "metadata": {},
     "output_type": "execute_result"
    }
   ],
   "source": [
    "a"
   ]
  },
  {
   "cell_type": "code",
   "execution_count": 84,
   "metadata": {
    "scrolled": false
   },
   "outputs": [
    {
     "data": {
      "text/plain": [
       "-118.408056"
      ]
     },
     "execution_count": 84,
     "metadata": {},
     "output_type": "execute_result"
    }
   ],
   "source": [
    "b"
   ]
  },
  {
   "cell_type": "markdown",
   "metadata": {},
   "source": [
    "### 2.3 Tuple unpacking 세번째 방법"
   ]
  },
  {
   "cell_type": "markdown",
   "metadata": {},
   "source": [
    "##### divmod\n",
    "divmod(a, b)는 2개의 숫자를 입력으로 받는다. 그리고 a를 b로 나눈 몫과 나머지를 튜플 형태로 리턴하는 함수이다.\n",
    "\n",
    "\n"
   ]
  },
  {
   "cell_type": "code",
   "execution_count": 89,
   "metadata": {},
   "outputs": [
    {
     "data": {
      "text/plain": [
       "(5, 0)"
      ]
     },
     "execution_count": 89,
     "metadata": {},
     "output_type": "execute_result"
    }
   ],
   "source": [
    "divmod(10,2)"
   ]
  },
  {
   "cell_type": "markdown",
   "metadata": {},
   "source": [
    "##### divmod로 생성된 튜플을 unpacking하는 방법은 다음과 같다."
   ]
  },
  {
   "cell_type": "code",
   "execution_count": 90,
   "metadata": {},
   "outputs": [
    {
     "data": {
      "text/plain": [
       "(2, 4)"
      ]
     },
     "execution_count": 90,
     "metadata": {},
     "output_type": "execute_result"
    }
   ],
   "source": [
    "divmod(20,8)\n"
   ]
  },
  {
   "cell_type": "code",
   "execution_count": 97,
   "metadata": {},
   "outputs": [
    {
     "data": {
      "text/plain": [
       "(20, 8)"
      ]
     },
     "execution_count": 97,
     "metadata": {},
     "output_type": "execute_result"
    }
   ],
   "source": [
    "t = (20,8)\n",
    "t"
   ]
  },
  {
   "cell_type": "code",
   "execution_count": 98,
   "metadata": {},
   "outputs": [
    {
     "data": {
      "text/plain": [
       "(2, 4)"
      ]
     },
     "execution_count": 98,
     "metadata": {},
     "output_type": "execute_result"
    }
   ],
   "source": [
    "divmod(*t)"
   ]
  },
  {
   "cell_type": "code",
   "execution_count": null,
   "metadata": {
    "collapsed": true
   },
   "outputs": [],
   "source": [
    "qutient, remainder = divmod(*t)\n",
    "\n",
    "print(qutient)\n",
    "print(remainder)"
   ]
  },
  {
   "cell_type": "markdown",
   "metadata": {},
   "source": [
    "### 2.4 * 을 사용하기"
   ]
  },
  {
   "cell_type": "code",
   "execution_count": 101,
   "metadata": {},
   "outputs": [
    {
     "data": {
      "text/plain": [
       "range(0, 5)"
      ]
     },
     "execution_count": 101,
     "metadata": {},
     "output_type": "execute_result"
    }
   ],
   "source": [
    "range(5)"
   ]
  },
  {
   "cell_type": "code",
   "execution_count": 104,
   "metadata": {},
   "outputs": [
    {
     "name": "stdout",
     "output_type": "stream",
     "text": [
      "0\n",
      "1\n",
      "2 3 4\n"
     ]
    }
   ],
   "source": [
    "a,b, *rest = range(5)\n",
    "\n",
    "print(a)\n",
    "print(b)\n",
    "print(*rest)"
   ]
  },
  {
   "cell_type": "code",
   "execution_count": 106,
   "metadata": {},
   "outputs": [
    {
     "data": {
      "text/plain": [
       "(0, 1, [2, 3, 4])"
      ]
     },
     "execution_count": 106,
     "metadata": {},
     "output_type": "execute_result"
    }
   ],
   "source": [
    "a,b,rest"
   ]
  },
  {
   "cell_type": "markdown",
   "metadata": {},
   "source": [
    "# 3. Slicing\n",
    "\n",
    "List, tuple, stre 그리고 모든 sequence type에서 파이썬은 slicing operationg을 제공한다. "
   ]
  },
  {
   "cell_type": "markdown",
   "metadata": {},
   "source": [
    "### 3.1"
   ]
  },
  {
   "cell_type": "code",
   "execution_count": 115,
   "metadata": {},
   "outputs": [
    {
     "name": "stdout",
     "output_type": "stream",
     "text": [
      "[10, 20]\n",
      "[30, 40, 50, 60]\n"
     ]
    }
   ],
   "source": [
    "l= [10,20,30,40,50,60]\n",
    "\n",
    "print(l[:2])\n",
    "\n",
    "print(l[2:])"
   ]
  },
  {
   "cell_type": "markdown",
   "metadata": {},
   "source": [
    "### 3.2 Object를 slice\n"
   ]
  },
  {
   "cell_type": "code",
   "execution_count": 126,
   "metadata": {},
   "outputs": [
    {
     "name": "stdout",
     "output_type": "stream",
     "text": [
      "won\n",
      "wnekug\n",
      "gnujkoesnow\n"
     ]
    }
   ],
   "source": [
    "my_name = \"wonseokjung\"\n",
    "\n",
    "print(my_name[:3])\n",
    "#skipping \n",
    "print(my_name[::2])\n",
    "#backward skipping\n",
    "print(my_name[::-1])"
   ]
  },
  {
   "cell_type": "markdown",
   "metadata": {},
   "source": [
    "## 4. Multi-dimensional slicing and ellipsis\n"
   ]
  },
  {
   "cell_type": "code",
   "execution_count": 139,
   "metadata": {},
   "outputs": [
    {
     "data": {
      "text/plain": [
       "[0, 1, 2, 3, 4, 5, 6, 7, 8, 9]"
      ]
     },
     "execution_count": 139,
     "metadata": {},
     "output_type": "execute_result"
    }
   ],
   "source": [
    "l= list(range(10))\n",
    "l"
   ]
  },
  {
   "cell_type": "code",
   "execution_count": 140,
   "metadata": {},
   "outputs": [
    {
     "data": {
      "text/plain": [
       "[0, 1, 20, 30, 5, 6, 7, 8, 9]"
      ]
     },
     "execution_count": 140,
     "metadata": {},
     "output_type": "execute_result"
    }
   ],
   "source": [
    "l[2:5] = 20,30\n",
    "\n",
    "l"
   ]
  },
  {
   "cell_type": "code",
   "execution_count": 141,
   "metadata": {},
   "outputs": [
    {
     "data": {
      "text/plain": [
       "[0, 1, 7, 8, 9]"
      ]
     },
     "execution_count": 141,
     "metadata": {},
     "output_type": "execute_result"
    }
   ],
   "source": [
    "del l[2:6]\n",
    "l"
   ]
  },
  {
   "cell_type": "markdown",
   "metadata": {},
   "source": [
    "### 4.1 Using + and * with sequences "
   ]
  },
  {
   "cell_type": "code",
   "execution_count": 142,
   "metadata": {},
   "outputs": [
    {
     "data": {
      "text/plain": [
       "[1, 2, 3, 1, 2, 3, 1, 2, 3, 1, 2, 3, 1, 2, 3]"
      ]
     },
     "execution_count": 142,
     "metadata": {},
     "output_type": "execute_result"
    }
   ],
   "source": [
    "l = [1,2,3]\n",
    "\n",
    "l *5"
   ]
  },
  {
   "cell_type": "code",
   "execution_count": 144,
   "metadata": {},
   "outputs": [
    {
     "data": {
      "text/plain": [
       "'wonwonwonwonwon'"
      ]
     },
     "execution_count": 144,
     "metadata": {},
     "output_type": "execute_result"
    }
   ],
   "source": [
    "5*'won'"
   ]
  },
  {
   "cell_type": "markdown",
   "metadata": {},
   "source": [
    "### 4.2 Building lists of lists"
   ]
  },
  {
   "cell_type": "code",
   "execution_count": 151,
   "metadata": {
    "scrolled": true
   },
   "outputs": [
    {
     "name": "stdout",
     "output_type": "stream",
     "text": [
      "['***', '***', '***', '***', '***', '***', '***', '***', '***', '***']\n",
      "[['*'], ['*'], ['*'], ['*'], ['*'], ['*'], ['*'], ['*'], ['*'], ['*']]\n"
     ]
    }
   ],
   "source": [
    "star = [\"***\" for i in range(10)]\n",
    "\n",
    "print(star)\n",
    "\n",
    "star2 = [[\"*\"] for i in range(10)]\n",
    "\n",
    "print(star2)"
   ]
  },
  {
   "cell_type": "markdown",
   "metadata": {},
   "source": [
    "### 4.3 다른 방법으로 list를 만들고, 리스트 안의 내용 변환"
   ]
  },
  {
   "cell_type": "code",
   "execution_count": 157,
   "metadata": {
    "scrolled": true
   },
   "outputs": [
    {
     "data": {
      "text/plain": [
       "[['*', '*', '*', '*', '*'],\n",
       " ['*', '*', '*', '*', '*'],\n",
       " ['*', '*', '*', '*', '*'],\n",
       " ['*', '*', '*', '*', '*'],\n",
       " ['*', '*', '*', '*', '*']]"
      ]
     },
     "execution_count": 157,
     "metadata": {},
     "output_type": "execute_result"
    }
   ],
   "source": [
    "another_list = [[\"*\"]*5] * 5\n",
    "\n",
    "another_list"
   ]
  },
  {
   "cell_type": "code",
   "execution_count": 158,
   "metadata": {
    "collapsed": true
   },
   "outputs": [],
   "source": [
    "another_list[1][2]= 3\n",
    "\n",
    "another_list\n",
    "\n"
   ]
  },
  {
   "cell_type": "markdown",
   "metadata": {},
   "source": [
    "리스트에 '*' 을 만들어 추가"
   ]
  },
  {
   "cell_type": "code",
   "execution_count": 164,
   "metadata": {},
   "outputs": [
    {
     "data": {
      "text/plain": [
       "[['*'], ['*'], ['*'], ['*'], ['*'], ['*'], ['*'], ['*'], ['*'], ['*']]"
      ]
     },
     "execution_count": 164,
     "metadata": {},
     "output_type": "execute_result"
    }
   ],
   "source": [
    "b=[]\n",
    "\n",
    "for i in range(10):\n",
    "    a= [\"*\"]\n",
    "    b.append(a)\n",
    "    \n",
    "b"
   ]
  },
  {
   "cell_type": "markdown",
   "metadata": {},
   "source": [
    "## 5.Augmented assignment with sequences \n",
    "\n",
    "operators += , *= 사용"
   ]
  },
  {
   "cell_type": "code",
   "execution_count": 185,
   "metadata": {},
   "outputs": [
    {
     "data": {
      "text/plain": [
       "4375681160"
      ]
     },
     "execution_count": 185,
     "metadata": {},
     "output_type": "execute_result"
    }
   ],
   "source": [
    "l =[1,2,3]\n",
    "# id() = memory location\n",
    "id(l)\n"
   ]
  },
  {
   "cell_type": "code",
   "execution_count": 202,
   "metadata": {},
   "outputs": [
    {
     "data": {
      "text/plain": [
       "4374314440"
      ]
     },
     "execution_count": 202,
     "metadata": {},
     "output_type": "execute_result"
    }
   ],
   "source": [
    "t=(1,2,3)\n",
    "id(t)"
   ]
  },
  {
   "cell_type": "code",
   "execution_count": 203,
   "metadata": {},
   "outputs": [
    {
     "name": "stdout",
     "output_type": "stream",
     "text": [
      "(1, 2, 3, 1, 2, 3)\n",
      "4374250216\n"
     ]
    }
   ],
   "source": [
    "t*=2\n",
    "print(t)\n",
    "print(id(t))"
   ]
  },
  {
   "cell_type": "markdown",
   "metadata": {},
   "source": [
    "### 5.1 A += Assignment puzzler"
   ]
  },
  {
   "cell_type": "code",
   "execution_count": 208,
   "metadata": {},
   "outputs": [
    {
     "name": "stdout",
     "output_type": "stream",
     "text": [
      "(1, 2, [30, 40])\n"
     ]
    },
    {
     "ename": "TypeError",
     "evalue": "'tuple' object does not support item assignment",
     "output_type": "error",
     "traceback": [
      "\u001b[0;31m---------------------------------------------------------------------------\u001b[0m",
      "\u001b[0;31mTypeError\u001b[0m                                 Traceback (most recent call last)",
      "\u001b[0;32m<ipython-input-208-8da6a6def858>\u001b[0m in \u001b[0;36m<module>\u001b[0;34m()\u001b[0m\n\u001b[1;32m      3\u001b[0m \u001b[0mprint\u001b[0m\u001b[0;34m(\u001b[0m\u001b[0mt\u001b[0m\u001b[0;34m)\u001b[0m\u001b[0;34m\u001b[0m\u001b[0m\n\u001b[1;32m      4\u001b[0m \u001b[0;34m\u001b[0m\u001b[0m\n\u001b[0;32m----> 5\u001b[0;31m \u001b[0mt\u001b[0m\u001b[0;34m[\u001b[0m\u001b[0;36m2\u001b[0m\u001b[0;34m]\u001b[0m\u001b[0;34m+=\u001b[0m\u001b[0;34m[\u001b[0m\u001b[0;36m10\u001b[0m\u001b[0;34m,\u001b[0m\u001b[0;36m50\u001b[0m\u001b[0;34m]\u001b[0m\u001b[0;34m\u001b[0m\u001b[0m\n\u001b[0m\u001b[1;32m      6\u001b[0m \u001b[0;34m\u001b[0m\u001b[0m\n\u001b[1;32m      7\u001b[0m \u001b[0mprint\u001b[0m\u001b[0;34m(\u001b[0m\u001b[0mt\u001b[0m\u001b[0;34m)\u001b[0m\u001b[0;34m\u001b[0m\u001b[0m\n",
      "\u001b[0;31mTypeError\u001b[0m: 'tuple' object does not support item assignment"
     ]
    }
   ],
   "source": [
    "t=(1,2,[30,40])\n",
    "\n",
    "print(t)\n",
    "\n",
    "t[2]+=[10,50]\n",
    "\n",
    "print(t)"
   ]
  },
  {
   "cell_type": "code",
   "execution_count": 209,
   "metadata": {},
   "outputs": [
    {
     "data": {
      "text/plain": [
       "(1, 2, [30, 40, 10, 50])"
      ]
     },
     "execution_count": 209,
     "metadata": {},
     "output_type": "execute_result"
    }
   ],
   "source": [
    "t"
   ]
  },
  {
   "cell_type": "markdown",
   "metadata": {},
   "source": [
    "### 6. list.sort and the sorted built-in function"
   ]
  },
  {
   "cell_type": "code",
   "execution_count": 12,
   "metadata": {},
   "outputs": [
    {
     "name": "stdout",
     "output_type": "stream",
     "text": [
      "campany: ['Samsung', 'LG', 'Apple']\n",
      "sorted: ['Apple', 'LG', 'Samsung']\n",
      "reversed sorted ['Samsung', 'LG', 'Apple']\n",
      "length sort: ['LG', 'Apple', 'Samsung']\n",
      "len and reverse sort ['Samsung', 'Apple', 'LG']\n",
      "['Apple', 'LG', 'Samsung']\n"
     ]
    }
   ],
   "source": [
    "company = ['Samsung', 'LG', 'Apple']\n",
    "\n",
    "print(\"campany:\",company)\n",
    "\n",
    "#sort\n",
    "print(\"sorted:\",sorted(company))\n",
    "\n",
    "#순서를 거꾸로 sort\n",
    "print(\"reversed sorted\", sorted(company, reverse=True))\n",
    "\n",
    "#길이로 sort \n",
    "print(\"length sort:\",sorted(company, key=len))\n",
    "\n",
    "#len with reverse\n",
    "\n",
    "print(\"len and reverse sort\", sorted(company, key=len, reverse = True))\n",
    "\n",
    "# sort된 순서로 company 바꾸기\n",
    "company.sort()\n",
    "\n",
    "print(company)"
   ]
  },
  {
   "cell_type": "markdown",
   "metadata": {},
   "source": [
    "### 7.Managing ordered sequences with bisect"
   ]
  },
  {
   "cell_type": "code",
   "execution_count": 14,
   "metadata": {},
   "outputs": [
    {
     "name": "stdout",
     "output_type": "stream",
     "text": [
      "DEMO bisect\n",
      "haystack ->   1 4 5 6 8121520212323262930\n",
      "31 @ 14 LLLLLLLLLLLLLL31\n",
      "30 @ 14 LLLLLLLLLLLLLL30\n",
      "29 @ 13 LLLLLLLLLLLLL29\n",
      "23 @ 11 LLLLLLLLLLL23\n",
      "22 @  9 LLLLLLLLL22\n",
      "10 @  5 LLLLL10\n",
      " 8 @  5 LLLLL8 \n",
      " 5 @  3 LLL5 \n",
      " 2 @  1 L2 \n",
      " 1 @  1 L1 \n",
      " 0 @  0 0 \n"
     ]
    }
   ],
   "source": [
    "import bisect \n",
    "import sys\n",
    "\n",
    "HAYSTACK = [1,4,5,6,8,12,15,20,21,23,23,26,29,30]\n",
    "\n",
    "NEEDLES = [0,1,2,5,8,10,22,23,29,30,31]\n",
    "\n",
    "ROW_FMT = '{0:2d} @ {1:2d} {2}{0:<2d}'\n",
    "\n",
    "def demo(bisct_fn):\n",
    "    for needle in reversed(NEEDLES):\n",
    "        position = bisect_fn(HAYSTACK, needle)\n",
    "        offset = position * 'L'\n",
    "        print(ROW_FMT.format(needle, position, offset))\n",
    "\n",
    "        \n",
    "if __name__ == '__main__':\n",
    "    if sys.argv[-1] == 'left':\n",
    "        bisect_fn = bisect.bisect_left\n",
    "    else: \n",
    "        bisect_fn = bisect.bisect\n",
    "        \n",
    "    print('DEMO', bisect_fn.__name__)\n",
    "    print('haystack -> ', ''.join('%2d' % n for n in HAYSTACK))\n",
    "    demo(bisect_fn)"
   ]
  },
  {
   "cell_type": "code",
   "execution_count": 16,
   "metadata": {
    "collapsed": true
   },
   "outputs": [],
   "source": [
    "def grade(score, breakpoints = [90,70,80,90], grades = 'FDCBA'):\n",
    "    i = bisect.bisect(breakpoints, score)\n",
    "    return grades[i]\n"
   ]
  },
  {
   "cell_type": "code",
   "execution_count": 21,
   "metadata": {},
   "outputs": [
    {
     "data": {
      "text/plain": [
       "['F', 'A', 'C', 'C', 'B', 'A', 'A']"
      ]
     },
     "execution_count": 21,
     "metadata": {},
     "output_type": "execute_result"
    }
   ],
   "source": [
    "[grade(score) for score in [33,99,77,70,89,90,100]]"
   ]
  },
  {
   "cell_type": "markdown",
   "metadata": {},
   "source": [
    "### 7.1 Inserting with bisect.insrot"
   ]
  },
  {
   "cell_type": "code",
   "execution_count": 23,
   "metadata": {},
   "outputs": [
    {
     "name": "stdout",
     "output_type": "stream",
     "text": [
      "11 -> [11]\n",
      "10 -> [10, 11]\n",
      " 5 -> [5, 10, 11]\n",
      " 8 -> [5, 8, 10, 11]\n",
      " 0 -> [0, 5, 8, 10, 11]\n",
      " 5 -> [0, 5, 5, 8, 10, 11]\n",
      "11 -> [0, 5, 5, 8, 10, 11, 11]\n"
     ]
    }
   ],
   "source": [
    "import bisect\n",
    "import random\n",
    "\n",
    "size = 7\n",
    "\n",
    "random.seed(219)\n",
    "\n",
    "wonseok_list = []\n",
    "\n",
    "for i in range(size):\n",
    "    new_item=random.randrange(size * 2)\n",
    "    bisect.insort(wonseok_list, new_item)\n",
    "    print('%2d ->'% new_item,wonseok_list)"
   ]
  },
  {
   "cell_type": "markdown",
   "metadata": {},
   "source": [
    "### 7.3 Array"
   ]
  },
  {
   "cell_type": "code",
   "execution_count": 8,
   "metadata": {},
   "outputs": [
    {
     "name": "stdout",
     "output_type": "stream",
     "text": [
      "Last : 0.9696652206381505\n",
      "0.9696652206381505\n",
      "True\n"
     ]
    }
   ],
   "source": [
    "from array import array\n",
    "\n",
    "from random import random\n",
    "\n",
    "\"\"\"\n",
    "  - 'r' : 읽기 전용\n",
    "  - 'w' : 쓰기 전용\n",
    "  - 'a' : 파일 끝에 추가(쓰기 전용)\n",
    "  - 'r+' : 읽고 쓰기\n",
    "  - 'w+' : 읽고 쓰기(기존 파일 삭제)\n",
    "  - 'a+' : 파일 끝에 추가(읽기도 가능)\n",
    "  - 'rb' : 이진 파일 읽기 전용\n",
    "  - 'wb' : 이진 파일 쓰기 전용\n",
    "  - 'ab' : 이진 파일 끝에 추가(쓰기 전용)\n",
    "  - 'rb+' : 이진 파일 읽고 쓰기\n",
    "  - 'wb+' : 이진 파일 읽고 쓰기(기존 파일 삭제)\n",
    "  - 'ab+' : 이진 파일 끝에 추가(읽기도 가능)\n",
    "\"\"\"\n",
    "\n",
    "floats = array('d',(random () for i in range(10**7)))\n",
    "\n",
    "\n",
    "print(\"Last :\" ,floats[-1])\n",
    "\n",
    "fp = open('floats.bin', 'wb')\n",
    "\n",
    "floats.tofile(fp)\n",
    "\n",
    "fp.close()\n",
    "\n",
    "floats2 = array('d')\n",
    "\n",
    "fp = open('floats.bin', 'rb')\n",
    "\n",
    "floats2.fromfile(fp, 10**7)\n",
    "\n",
    "fp.close()\n",
    "\n",
    "print(floats2[-1])\n",
    "\n",
    "print(floats==floats2)"
   ]
  },
  {
   "cell_type": "markdown",
   "metadata": {},
   "source": [
    "### 8. Memory views"
   ]
  },
  {
   "cell_type": "code",
   "execution_count": 19,
   "metadata": {},
   "outputs": [
    {
     "name": "stdout",
     "output_type": "stream",
     "text": [
      "5\n",
      "-2\n",
      "<memory at 0x000002315A8D6888>\n",
      "[254, 255, 255, 255, 0, 0, 1, 0, 2, 0]\n",
      "array('h', [-2, -1, 0, 1, 2])\n"
     ]
    }
   ],
   "source": [
    "import array\n",
    "\n",
    "numbers = array.array('h',[-2,-1,0,1,2])\n",
    "\n",
    "memv = memoryview(numbers)\n",
    "\n",
    "print(len(memv))\n",
    "\n",
    "print(memv[0])\n",
    "\n",
    "memv_oct=memv.cast('B')\n",
    "\n",
    "print(memv_oct)\n",
    "\n",
    "print(memv_oct.tolist())\n",
    "\n",
    "print(numbers)"
   ]
  },
  {
   "cell_type": "markdown",
   "metadata": {},
   "source": [
    "### 9. Numpy and  Scipy"
   ]
  },
  {
   "cell_type": "code",
   "execution_count": 29,
   "metadata": {},
   "outputs": [
    {
     "name": "stdout",
     "output_type": "stream",
     "text": [
      "[ 0  1  2  3  4  5  6  7  8  9 10 11]\n",
      "<class 'numpy.ndarray'>\n",
      "(12,)\n",
      "[[ 0  1  2  3]\n",
      " [ 4  5  6  7]\n",
      " [ 8  9 10 11]]\n",
      "9\n",
      "[1 5 9]\n",
      "[[ 0  4  8]\n",
      " [ 1  5  9]\n",
      " [ 2  6 10]\n",
      " [ 3  7 11]]\n"
     ]
    }
   ],
   "source": [
    "import numpy as np\n",
    "\n",
    "a= np.arange(12)\n",
    "\n",
    "print(a)\n",
    "\n",
    "print(type(a))\n",
    "\n",
    "print(a.shape)\n",
    "\n",
    "a.shape=3,4\n",
    "\n",
    "print(a)\n",
    "\n",
    "\n",
    "print(a[2,1])\n",
    "\n",
    "\n",
    "print(a[:,1])\n",
    "\n",
    "print(a.transpose())"
   ]
  },
  {
   "cell_type": "markdown",
   "metadata": {
    "collapsed": true
   },
   "source": [
    "#### 9.1 High-level operations using numpy"
   ]
  },
  {
   "cell_type": "code",
   "execution_count": 52,
   "metadata": {},
   "outputs": [
    {
     "name": "stdout",
     "output_type": "stream",
     "text": [
      "[  0.   1.   2.   3.   4.   5.   6.   7.   8.   9.  10.  11.  12.  13.  14.\n",
      "  15.  16.  17.  18.  19.  20.  21.  22.  23.  24.  25.  26.  27.  28.  29.\n",
      "  30.  31.  32.  33.  34.  35.  36.  37.  38.  39.  40.  41.  42.  43.  44.\n",
      "  45.  46.  47.  48.  49.  50.  51.  52.  53.  54.  55.  56.  57.  58.  59.\n",
      "  60.  61.  62.  63.  64.  65.  66.  67.  68.  69.  70.  71.  72.  73.  74.\n",
      "  75.  76.  77.  78.  79.  80.  81.  82.  83.  84.  85.  86.  87.  88.  89.\n",
      "  90.  91.  92.  93.  94.  95.  96.  97.  98.  99.]\n",
      "---\n",
      "[ 97.  98.  99.]\n"
     ]
    }
   ],
   "source": [
    "\n",
    "import numpy as np\n",
    "\n",
    "np.savetxt('ws_test.txt' ,np.arange(100))\n",
    "\n",
    "floats = np.loadtxt('ws_test.txt')\n",
    "\n",
    "print(floats)\n",
    "print(\"---\")\n",
    "print(floats[-3:])\n",
    "\n"
   ]
  },
  {
   "cell_type": "markdown",
   "metadata": {},
   "source": [
    "### 10. Deques and other queues "
   ]
  },
  {
   "cell_type": "code",
   "execution_count": 71,
   "metadata": {},
   "outputs": [
    {
     "name": "stdout",
     "output_type": "stream",
     "text": [
      "deque([0, 1, 2, 3, 4, 5, 6, 7, 8, 9], maxlen=10)\n",
      "deque([90, 91, 92, 93, 94, 95, 96, 97, 98, 99], maxlen=10)\n",
      "deque([4, 5, 6, 7, 8, 9, 0, 1, 2, 3], maxlen=10)\n",
      "deque([-1, 4, 5, 6, 7, 8, 9, 0, 1, 2], maxlen=10)\n",
      "deque([6, 7, 8, 9, 0, 1, 2, 10, 20, 30], maxlen=10)\n",
      "deque([1235, 123, 12031, 6, 7, 8, 9, 0, 1, 2], maxlen=10)\n"
     ]
    }
   ],
   "source": [
    "from collections import deque\n",
    "\n",
    "\n",
    "\n",
    "\n",
    "dq = deque(range(10), maxlen=10)\n",
    "\n",
    "print(dq)\n",
    "\n",
    "print(deque(range(100),maxlen=10))\n",
    "\n",
    "dq.rotate(-4)\n",
    "\n",
    "print(dq)\n",
    "\n",
    "dq.appendleft(-1)\n",
    "\n",
    "print(dq)\n",
    "\n",
    "dq.extend([10,20,30])\n",
    "\n",
    "print(dq)\n",
    "\n",
    "dq.extendleft([12031,123,1235])\n",
    "\n",
    "print(dq)"
   ]
  }
 ],
 "metadata": {
  "kernelspec": {
   "display_name": "Python 3",
   "language": "python",
   "name": "python3"
  },
  "language_info": {
   "codemirror_mode": {
    "name": "ipython",
    "version": 3
   },
   "file_extension": ".py",
   "mimetype": "text/x-python",
   "name": "python",
   "nbconvert_exporter": "python",
   "pygments_lexer": "ipython3",
   "version": "3.5.4"
  }
 },
 "nbformat": 4,
 "nbformat_minor": 2
}
